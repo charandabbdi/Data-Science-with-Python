{
 "cells": [
  {
   "cell_type": "code",
   "execution_count": 34,
   "id": "202cb97f",
   "metadata": {},
   "outputs": [],
   "source": [
    "import numpy as np"
   ]
  },
  {
   "cell_type": "code",
   "execution_count": 53,
   "id": "797eb1cf",
   "metadata": {},
   "outputs": [],
   "source": [
    "np_countries=np.array(['Great Britain','China','Russia','United States','Korea','Japan','Germany'])\n",
    "np_country_Code=np.array(['GBR','CHN','RUS','US','KOR','JPN','GER'])\n",
    "np_year=np.array([2012,2012,2012,2012,2012,2012,2012])\n",
    "np_gold=np.array([29,38,24,46,13,7,11])\n",
    "np_silver=np.array([17,28,25,28,8,14,11])\n",
    "np_bronze=np.array([19,22,32,29,7,17,14])\n",
    "np_medal_tally=np.array([np_gold,np_silver,np_bronze])"
   ]
  },
  {
   "cell_type": "code",
   "execution_count": 54,
   "id": "09e3f07c",
   "metadata": {},
   "outputs": [
    {
     "name": "stdout",
     "output_type": "stream",
     "text": [
      "United States\n"
     ]
    }
   ],
   "source": [
    "country_max_gold=np_countries[np_gold.argmax()]\n",
    "print(country_max_gold)"
   ]
  },
  {
   "cell_type": "code",
   "execution_count": 55,
   "id": "03a85c93",
   "metadata": {},
   "outputs": [
    {
     "data": {
      "text/plain": [
       "array(['Great Britain', 'China', 'Russia', 'United States'], dtype='<U13')"
      ]
     },
     "execution_count": 55,
     "metadata": {},
     "output_type": "execute_result"
    }
   ],
   "source": [
    "np_countries[np_gold>20]"
   ]
  },
  {
   "cell_type": "code",
   "execution_count": 56,
   "id": "234531eb",
   "metadata": {},
   "outputs": [
    {
     "name": "stdout",
     "output_type": "stream",
     "text": [
      "[[29 38 24 46 13  7 11]\n",
      " [17 28 25 28  8 14 11]\n",
      " [19 22 32 29  7 17 14]]\n"
     ]
    }
   ],
   "source": [
    "print(np_medal_tally)"
   ]
  },
  {
   "cell_type": "code",
   "execution_count": 57,
   "id": "883c74b8",
   "metadata": {},
   "outputs": [
    {
     "name": "stdout",
     "output_type": "stream",
     "text": [
      "Great Britain with 29 Gold medals\n",
      "China with 38 Gold medals\n",
      "Russia with 24 Gold medals\n",
      "United States with 46 Gold medals\n",
      "Korea with 13 Gold medals\n",
      "Japan with 7 Gold medals\n",
      "Germany with 11 Gold medals\n"
     ]
    }
   ],
   "source": [
    "for i in range(len(np_countries)):\n",
    "    print('{} with {} Gold medals'.format(np_countries[i],np_gold[i]))"
   ]
  },
  {
   "cell_type": "code",
   "execution_count": 58,
   "id": "f35dd956",
   "metadata": {},
   "outputs": [
    {
     "name": "stdout",
     "output_type": "stream",
     "text": [
      "Great Britain with 65 total medals\n",
      "China with 88 total medals\n",
      "Russia with 81 total medals\n",
      "United States with 103 total medals\n",
      "Korea with 28 total medals\n",
      "Japan with 38 total medals\n",
      "Germany with 36 total medals\n"
     ]
    }
   ],
   "source": [
    "for i in range(len(np_countries)):\n",
    "    total_medals=np_gold[i]+np_silver[i]+np_bronze[i]\n",
    "    print(\"{} with {} total medals\".format(np_countries[i],total_medals))"
   ]
  },
  {
   "cell_type": "code",
   "execution_count": null,
   "id": "3cba3b5e",
   "metadata": {},
   "outputs": [],
   "source": []
  }
 ],
 "metadata": {
  "kernelspec": {
   "display_name": "Python 3 (ipykernel)",
   "language": "python",
   "name": "python3"
  },
  "language_info": {
   "codemirror_mode": {
    "name": "ipython",
    "version": 3
   },
   "file_extension": ".py",
   "mimetype": "text/x-python",
   "name": "python",
   "nbconvert_exporter": "python",
   "pygments_lexer": "ipython3",
   "version": "3.9.7"
  }
 },
 "nbformat": 4,
 "nbformat_minor": 5
}
