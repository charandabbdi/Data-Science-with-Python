{
 "cells": [
  {
   "cell_type": "markdown",
   "id": "a00d653c",
   "metadata": {},
   "source": [
    "# GDP (assignment in numpy)"
   ]
  },
  {
   "cell_type": "code",
   "execution_count": 92,
   "id": "db630014",
   "metadata": {},
   "outputs": [],
   "source": [
    "import numpy as np"
   ]
  },
  {
   "cell_type": "code",
   "execution_count": 93,
   "id": "81d7c6be",
   "metadata": {},
   "outputs": [
    {
     "name": "stdout",
     "output_type": "stream",
     "text": [
      "['Algeria', 'Angola', 'Argentina', 'Australia', 'Austria', 'Bahamas', 'Bangladesh', 'Belarus', 'Belgium', 'Bhutan', 'Brazil', 'Bulgaria', 'Cambodia', 'Cameroon', 'Chile', 'China', 'Colombia', 'Cyprus', 'Denmark', 'El Salvador', 'Estonia', 'Ethiopia', 'Fiji', 'Finland', 'France', 'Georgia', 'Ghana', 'Grenada', 'Guinea', 'Haiti', 'Honduras', 'Hungary', 'India', 'Indonesia', 'Ireland', 'Italy', 'Japan', 'Kenya', 'South Korea', 'Liberia', 'Malaysia', 'Mexico', 'Morocco', 'Nepal', 'New Zealand', 'Norway', 'Pakistan', 'Peru', 'Qatar', 'Russia', 'Singapore', 'South Africa', 'Spain', 'Sweden', 'Switzerland', 'Thailand', 'United Arab Emirates', 'United Kingdom', 'United States', 'Uruguay', 'Venezuela', 'Vietnam', 'Zimbabwe']\n"
     ]
    },
    {
     "data": {
      "text/plain": [
       "[2255.225482,\n",
       " 629.9553062,\n",
       " 11601.63022,\n",
       " 25306.82494,\n",
       " 27266.40335,\n",
       " 19466.99052,\n",
       " 588.3691778,\n",
       " 2890.345675,\n",
       " 24733.62696,\n",
       " 1445.760002,\n",
       " 4803.398244,\n",
       " 2618.876037,\n",
       " 590.4521124,\n",
       " 665.7982328,\n",
       " 7122.938458,\n",
       " 2639.54156,\n",
       " 3362.4656,\n",
       " 15378.16704,\n",
       " 30860.12808,\n",
       " 2579.115607,\n",
       " 6525.541272,\n",
       " 229.6769525,\n",
       " 2242.689259,\n",
       " 27570.4852,\n",
       " 23016.84778,\n",
       " 1334.646773,\n",
       " 402.6953275,\n",
       " 6047.200797,\n",
       " 394.1156638,\n",
       " 385.5793827,\n",
       " 1414.072488,\n",
       " 5745.981529,\n",
       " 837.7464011,\n",
       " 1206.991065,\n",
       " 27715.52837,\n",
       " 18937.24998,\n",
       " 39578.07441,\n",
       " 478.2194906,\n",
       " 16684.21278,\n",
       " 279.2204061,\n",
       " 5345.213415,\n",
       " 6288.25324,\n",
       " 1908.304416,\n",
       " 274.8728621,\n",
       " 14646.42094,\n",
       " 40034.85063,\n",
       " 672.1547506,\n",
       " 3359.517402,\n",
       " 36152.66676,\n",
       " 3054.727742,\n",
       " 33529.83052,\n",
       " 3825.093781,\n",
       " 15428.32098,\n",
       " 33630.24604,\n",
       " 39170.41371,\n",
       " 2699.123242,\n",
       " 21058.43643,\n",
       " 28272.40661,\n",
       " 37691.02733,\n",
       " 9581.05659,\n",
       " 5671.912202,\n",
       " 757.4009286,\n",
       " 347.7456605]"
      ]
     },
     "execution_count": 93,
     "metadata": {},
     "output_type": "execute_result"
    }
   ],
   "source": [
    "countries=['Algeria','Angola','Argentina','Australia','Austria','Bahamas','Bangladesh','Belarus','Belgium','Bhutan','Brazil','Bulgaria','Cambodia','Cameroon','Chile','China','Colombia','Cyprus','Denmark','El Salvador','Estonia','Ethiopia','Fiji','Finland','France','Georgia','Ghana','Grenada','Guinea','Haiti','Honduras','Hungary','India','Indonesia','Ireland','Italy','Japan','Kenya', 'South Korea','Liberia','Malaysia','Mexico', 'Morocco','Nepal','New Zealand','Norway','Pakistan', 'Peru','Qatar','Russia','Singapore','South Africa','Spain','Sweden','Switzerland','Thailand', 'United Arab Emirates','United Kingdom','United States','Uruguay','Venezuela','Vietnam','Zimbabwe']\n",
    "\n",
    "print(countries)\n",
    "GDP=[2255.225482,629.9553062,11601.63022,25306.82494,27266.40335,19466.99052,588.3691778,2890.345675,24733.62696,1445.760002,4803.398244,2618.876037,590.4521124,665.7982328,7122.938458,2639.54156,3362.4656,15378.16704,30860.12808,2579.115607,6525.541272,229.6769525,2242.689259,27570.4852,23016.84778,1334.646773,402.6953275,6047.200797,394.1156638,385.5793827,1414.072488,5745.981529,837.7464011,1206.991065,27715.52837,18937.24998,39578.07441,478.2194906,16684.21278,279.2204061,5345.213415,6288.25324,1908.304416,274.8728621,14646.42094,40034.85063,672.1547506,3359.517402,36152.66676,3054.727742,33529.83052,3825.093781,15428.32098,33630.24604,39170.41371,2699.123242,21058.43643,28272.40661,37691.02733,9581.05659,5671.912202,757.4009286,347.7456605]\n",
    "GDP"
   ]
  },
  {
   "cell_type": "code",
   "execution_count": 94,
   "id": "c45e068c",
   "metadata": {},
   "outputs": [
    {
     "name": "stdout",
     "output_type": "stream",
     "text": [
      "['Algeria' 'Angola' 'Argentina' 'Australia' 'Austria' 'Bahamas'\n",
      " 'Bangladesh' 'Belarus' 'Belgium' 'Bhutan' 'Brazil' 'Bulgaria' 'Cambodia'\n",
      " 'Cameroon' 'Chile' 'China' 'Colombia' 'Cyprus' 'Denmark' 'El Salvador'\n",
      " 'Estonia' 'Ethiopia' 'Fiji' 'Finland' 'France' 'Georgia' 'Ghana'\n",
      " 'Grenada' 'Guinea' 'Haiti' 'Honduras' 'Hungary' 'India' 'Indonesia'\n",
      " 'Ireland' 'Italy' 'Japan' 'Kenya' 'South Korea' 'Liberia' 'Malaysia'\n",
      " 'Mexico' 'Morocco' 'Nepal' 'New Zealand' 'Norway' 'Pakistan' 'Peru'\n",
      " 'Qatar' 'Russia' 'Singapore' 'South Africa' 'Spain' 'Sweden'\n",
      " 'Switzerland' 'Thailand' 'United Arab Emirates' 'United Kingdom'\n",
      " 'United States' 'Uruguay' 'Venezuela' 'Vietnam' 'Zimbabwe']\n"
     ]
    },
    {
     "data": {
      "text/plain": [
       "[2255.225482,\n",
       " 629.9553062,\n",
       " 11601.63022,\n",
       " 25306.82494,\n",
       " 27266.40335,\n",
       " 19466.99052,\n",
       " 588.3691778,\n",
       " 2890.345675,\n",
       " 24733.62696,\n",
       " 1445.760002,\n",
       " 4803.398244,\n",
       " 2618.876037,\n",
       " 590.4521124,\n",
       " 665.7982328,\n",
       " 7122.938458,\n",
       " 2639.54156,\n",
       " 3362.4656,\n",
       " 15378.16704,\n",
       " 30860.12808,\n",
       " 2579.115607,\n",
       " 6525.541272,\n",
       " 229.6769525,\n",
       " 2242.689259,\n",
       " 27570.4852,\n",
       " 23016.84778,\n",
       " 1334.646773,\n",
       " 402.6953275,\n",
       " 6047.200797,\n",
       " 394.1156638,\n",
       " 385.5793827,\n",
       " 1414.072488,\n",
       " 5745.981529,\n",
       " 837.7464011,\n",
       " 1206.991065,\n",
       " 27715.52837,\n",
       " 18937.24998,\n",
       " 39578.07441,\n",
       " 478.2194906,\n",
       " 16684.21278,\n",
       " 279.2204061,\n",
       " 5345.213415,\n",
       " 6288.25324,\n",
       " 1908.304416,\n",
       " 274.8728621,\n",
       " 14646.42094,\n",
       " 40034.85063,\n",
       " 672.1547506,\n",
       " 3359.517402,\n",
       " 36152.66676,\n",
       " 3054.727742,\n",
       " 33529.83052,\n",
       " 3825.093781,\n",
       " 15428.32098,\n",
       " 33630.24604,\n",
       " 39170.41371,\n",
       " 2699.123242,\n",
       " 21058.43643,\n",
       " 28272.40661,\n",
       " 37691.02733,\n",
       " 9581.05659,\n",
       " 5671.912202,\n",
       " 757.4009286,\n",
       " 347.7456605]"
      ]
     },
     "execution_count": 94,
     "metadata": {},
     "output_type": "execute_result"
    }
   ],
   "source": [
    "np_countries=np.array(countries)\n",
    "np_GDP=np.array(GDP)\n",
    "print(np_countries)\n",
    "GDP"
   ]
  },
  {
   "cell_type": "code",
   "execution_count": 103,
   "id": "46220374",
   "metadata": {},
   "outputs": [
    {
     "name": "stdout",
     "output_type": "stream",
     "text": [
      "45\n"
     ]
    },
    {
     "data": {
      "text/plain": [
       "'Norway'"
      ]
     },
     "execution_count": 103,
     "metadata": {},
     "output_type": "execute_result"
    }
   ],
   "source": [
    "max_gdp=np_GDP.argmax()\n",
    "print(max_gdp)\n",
    "np_countries[max_gdp]"
   ]
  },
  {
   "cell_type": "code",
   "execution_count": 97,
   "id": "35ce3a2c",
   "metadata": {},
   "outputs": [
    {
     "name": "stdout",
     "output_type": "stream",
     "text": [
      "Ethiopia\n"
     ]
    }
   ],
   "source": [
    "min_gdp=np_GDP.argmin()\n",
    "print(np_countries[min_gdp])"
   ]
  },
  {
   "cell_type": "code",
   "execution_count": 98,
   "id": "de59db40",
   "metadata": {},
   "outputs": [
    {
     "name": "stdout",
     "output_type": "stream",
     "text": [
      "Evaluating Country Algeria\n",
      "Evaluating Country Angola\n",
      "Evaluating Country Argentina\n",
      "Evaluating Country Australia\n",
      "Evaluating Country Austria\n",
      "Evaluating Country Bahamas\n",
      "Evaluating Country Bangladesh\n",
      "Evaluating Country Belarus\n",
      "Evaluating Country Belgium\n",
      "Evaluating Country Bhutan\n",
      "Evaluating Country Brazil\n",
      "Evaluating Country Bulgaria\n",
      "Evaluating Country Cambodia\n",
      "Evaluating Country Cameroon\n",
      "Evaluating Country Chile\n",
      "Evaluating Country China\n",
      "Evaluating Country Colombia\n",
      "Evaluating Country Cyprus\n",
      "Evaluating Country Denmark\n",
      "Evaluating Country El Salvador\n",
      "Evaluating Country Estonia\n",
      "Evaluating Country Ethiopia\n",
      "Evaluating Country Fiji\n",
      "Evaluating Country Finland\n",
      "Evaluating Country France\n",
      "Evaluating Country Georgia\n",
      "Evaluating Country Ghana\n",
      "Evaluating Country Grenada\n",
      "Evaluating Country Guinea\n",
      "Evaluating Country Haiti\n",
      "Evaluating Country Honduras\n",
      "Evaluating Country Hungary\n",
      "Evaluating Country India\n",
      "Evaluating Country Indonesia\n",
      "Evaluating Country Ireland\n",
      "Evaluating Country Italy\n",
      "Evaluating Country Japan\n",
      "Evaluating Country Kenya\n",
      "Evaluating Country South Korea\n",
      "Evaluating Country Liberia\n",
      "Evaluating Country Malaysia\n",
      "Evaluating Country Mexico\n",
      "Evaluating Country Morocco\n",
      "Evaluating Country Nepal\n",
      "Evaluating Country New Zealand\n",
      "Evaluating Country Norway\n",
      "Evaluating Country Pakistan\n",
      "Evaluating Country Peru\n",
      "Evaluating Country Qatar\n",
      "Evaluating Country Russia\n",
      "Evaluating Country Singapore\n",
      "Evaluating Country South Africa\n",
      "Evaluating Country Spain\n",
      "Evaluating Country Sweden\n",
      "Evaluating Country Switzerland\n",
      "Evaluating Country Thailand\n",
      "Evaluating Country United Arab Emirates\n",
      "Evaluating Country United Kingdom\n",
      "Evaluating Country United States\n",
      "Evaluating Country Uruguay\n",
      "Evaluating Country Venezuela\n",
      "Evaluating Country Vietnam\n",
      "Evaluating Country Zimbabwe\n"
     ]
    }
   ],
   "source": [
    "for i in np_countries:\n",
    "    print('Evaluating Country {}'.format(i))"
   ]
  },
  {
   "cell_type": "code",
   "execution_count": 99,
   "id": "b2917f7e",
   "metadata": {},
   "outputs": [
    {
     "name": "stdout",
     "output_type": "stream",
     "text": [
      "country Algeria has GDP per capita 2255.225482\n",
      "country Angola has GDP per capita 629.9553062\n",
      "country Argentina has GDP per capita 11601.63022\n",
      "country Australia has GDP per capita 25306.82494\n",
      "country Austria has GDP per capita 27266.40335\n",
      "country Bahamas has GDP per capita 19466.99052\n",
      "country Bangladesh has GDP per capita 588.3691778\n",
      "country Belarus has GDP per capita 2890.345675\n",
      "country Belgium has GDP per capita 24733.62696\n",
      "country Bhutan has GDP per capita 1445.760002\n",
      "country Brazil has GDP per capita 4803.398244\n",
      "country Bulgaria has GDP per capita 2618.876037\n",
      "country Cambodia has GDP per capita 590.4521124\n",
      "country Cameroon has GDP per capita 665.7982328\n",
      "country Chile has GDP per capita 7122.938458\n",
      "country China has GDP per capita 2639.54156\n",
      "country Colombia has GDP per capita 3362.4656\n",
      "country Cyprus has GDP per capita 15378.16704\n",
      "country Denmark has GDP per capita 30860.12808\n",
      "country El Salvador has GDP per capita 2579.115607\n",
      "country Estonia has GDP per capita 6525.541272\n",
      "country Ethiopia has GDP per capita 229.6769525\n",
      "country Fiji has GDP per capita 2242.689259\n",
      "country Finland has GDP per capita 27570.4852\n",
      "country France has GDP per capita 23016.84778\n",
      "country Georgia has GDP per capita 1334.646773\n",
      "country Ghana has GDP per capita 402.6953275\n",
      "country Grenada has GDP per capita 6047.200797\n",
      "country Guinea has GDP per capita 394.1156638\n",
      "country Haiti has GDP per capita 385.5793827\n",
      "country Honduras has GDP per capita 1414.072488\n",
      "country Hungary has GDP per capita 5745.981529\n",
      "country India has GDP per capita 837.7464011\n",
      "country Indonesia has GDP per capita 1206.991065\n",
      "country Ireland has GDP per capita 27715.52837\n",
      "country Italy has GDP per capita 18937.24998\n",
      "country Japan has GDP per capita 39578.07441\n",
      "country Kenya has GDP per capita 478.2194906\n",
      "country South Korea has GDP per capita 16684.21278\n",
      "country Liberia has GDP per capita 279.2204061\n",
      "country Malaysia has GDP per capita 5345.213415\n",
      "country Mexico has GDP per capita 6288.25324\n",
      "country Morocco has GDP per capita 1908.304416\n",
      "country Nepal has GDP per capita 274.8728621\n",
      "country New Zealand has GDP per capita 14646.42094\n",
      "country Norway has GDP per capita 40034.85063\n",
      "country Pakistan has GDP per capita 672.1547506\n",
      "country Peru has GDP per capita 3359.517402\n",
      "country Qatar has GDP per capita 36152.66676\n",
      "country Russia has GDP per capita 3054.727742\n",
      "country Singapore has GDP per capita 33529.83052\n",
      "country South Africa has GDP per capita 3825.093781\n",
      "country Spain has GDP per capita 15428.32098\n",
      "country Sweden has GDP per capita 33630.24604\n",
      "country Switzerland has GDP per capita 39170.41371\n",
      "country Thailand has GDP per capita 2699.123242\n",
      "country United Arab Emirates has GDP per capita 21058.43643\n",
      "country United Kingdom has GDP per capita 28272.40661\n",
      "country United States has GDP per capita 37691.02733\n",
      "country Uruguay has GDP per capita 9581.05659\n",
      "country Venezuela has GDP per capita 5671.912202\n",
      "country Vietnam has GDP per capita 757.4009286\n",
      "country Zimbabwe has GDP per capita 347.7456605\n"
     ]
    }
   ],
   "source": [
    "for i in range(len(np_countries)):\n",
    "    country=np_countries[i]\n",
    "    gdp_per_cap=np_GDP[i]\n",
    "    print('country {} has GDP per capita {}'.format(country,gdp_per_cap))"
   ]
  },
  {
   "cell_type": "code",
   "execution_count": 100,
   "id": "fc50bac8",
   "metadata": {},
   "outputs": [
    {
     "data": {
      "text/plain": [
       "63"
      ]
     },
     "execution_count": 100,
     "metadata": {},
     "output_type": "execute_result"
    }
   ],
   "source": [
    "len(np_countries)"
   ]
  },
  {
   "cell_type": "code",
   "execution_count": 108,
   "id": "8a8da2a2",
   "metadata": {},
   "outputs": [
    {
     "name": "stdout",
     "output_type": "stream",
     "text": [
      "40034.85063\n",
      "229.6769525\n",
      "11289.409271639683\n",
      "12743.828910617945\n",
      "711232.7841133\n"
     ]
    }
   ],
   "source": [
    "print(np_GDP.max())\n",
    "print(np_GDP.min())\n",
    "print(np_GDP.mean())\n",
    "print(np_GDP.std())\n",
    "print(np_GDP.sum())"
   ]
  },
  {
   "cell_type": "code",
   "execution_count": 110,
   "id": "73d43d9b",
   "metadata": {},
   "outputs": [
    {
     "name": "stdout",
     "output_type": "stream",
     "text": [
      "45\n"
     ]
    }
   ],
   "source": [
    "#argmax() prints the index number\n",
    "print(np_GDP.argmax())"
   ]
  },
  {
   "cell_type": "code",
   "execution_count": null,
   "id": "ab6abf47",
   "metadata": {},
   "outputs": [],
   "source": []
  }
 ],
 "metadata": {
  "kernelspec": {
   "display_name": "Python 3 (ipykernel)",
   "language": "python",
   "name": "python3"
  },
  "language_info": {
   "codemirror_mode": {
    "name": "ipython",
    "version": 3
   },
   "file_extension": ".py",
   "mimetype": "text/x-python",
   "name": "python",
   "nbconvert_exporter": "python",
   "pygments_lexer": "ipython3",
   "version": "3.9.7"
  }
 },
 "nbformat": 4,
 "nbformat_minor": 5
}
